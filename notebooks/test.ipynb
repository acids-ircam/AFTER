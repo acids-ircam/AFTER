{
 "cells": [
  {
   "cell_type": "code",
   "execution_count": 1,
   "metadata": {},
   "outputs": [],
   "source": [
    "from IPython import get_ipython\n",
    "import gin\n",
    "gin.enter_interactive_mode()\n",
    "\n",
    "# Enable autoreload\n",
    "get_ipython().run_line_magic('load_ext', 'autoreload')\n",
    "get_ipython().run_line_magic('autoreload', '2')"
   ]
  },
  {
   "cell_type": "code",
   "execution_count": 2,
   "metadata": {},
   "outputs": [],
   "source": [
    "import sys \n",
    "\n",
    "sys.path.append(\"..\")"
   ]
  },
  {
   "cell_type": "code",
   "execution_count": 3,
   "metadata": {},
   "outputs": [],
   "source": [
    "from after.diffusion.networks import DenoiserV2"
   ]
  },
  {
   "cell_type": "code",
   "execution_count": 4,
   "metadata": {},
   "outputs": [
    {
     "data": {
      "text/plain": [
       "ParsedConfigFileIncludesAndImports(filename='/Users/demerle/Documents/PHD/repos/AFTER/after/diffusion/configs/dummy.gin', imports=['__gin__.dynamic_registration', 'after', 'after.diffusion', 'cached_conv.convs'], includes=[])"
      ]
     },
     "execution_count": 4,
     "metadata": {},
     "output_type": "execute_result"
    }
   ],
   "source": [
    "gin_config = \"/Users/demerle/Documents/PHD/repos/AFTER/after/diffusion/configs/dummy.gin\"\n",
    "\n",
    "gin.parse_config_file(gin_config)"
   ]
  },
  {
   "cell_type": "code",
   "execution_count": 5,
   "metadata": {},
   "outputs": [],
   "source": [
    "net = DenoiserV2()"
   ]
  },
  {
   "cell_type": "code",
   "execution_count": 104,
   "metadata": {},
   "outputs": [],
   "source": [
    "import torch\n",
    "import torch.nn as nn\n",
    "import torch.nn.functional as F\n",
    "\n",
    "def get_relativistic_losses(score_real, score_fake):\n",
    "    diff = score_real - score_fake\n",
    "    dis_loss = F.softplus(-diff).mean()\n",
    "    gen_loss = F.softplus(diff).mean()\n",
    "    return dis_loss, gen_loss\n",
    "\n",
    "class AdaLN(nn.Module):\n",
    "    def __init__(self, normalized_shape, cond_dim, time_cond_dim):\n",
    "        super().__init__()\n",
    "        self.norm = nn.GroupNorm(num_groups=32, num_channels=normalized_shape)\n",
    "\n",
    "        self.has_cond = cond_dim > 0\n",
    "        self.has_time_cond = time_cond_dim > 0\n",
    "\n",
    "        if self.has_cond:\n",
    "            self.cond_proj = nn.Linear(cond_dim, 2 * normalized_shape)\n",
    "        if self.has_time_cond:\n",
    "            self.time_cond_proj = nn.Conv1d(time_cond_dim, 2 * normalized_shape, kernel_size=1)\n",
    "            self.time_cond_downscale = nn.Conv1d(time_cond_dim,  time_cond_dim, kernel_size=3, stride = 2, padding = 1)\n",
    "\n",
    "    def forward(self, x, cond=None, time_cond=None):\n",
    "        # x: (B, C, T)\n",
    "        x_normed = self.norm(x)\n",
    "\n",
    "        scale = torch.ones_like(x_normed)\n",
    "        shift = torch.zeros_like(x_normed)\n",
    "\n",
    "        if self.has_cond and cond is not None:\n",
    "            cond_affine = self.cond_proj(cond).unsqueeze(-1)  # (B, 2C, 1)\n",
    "            c_scale, c_shift = cond_affine.chunk(2, dim=1)\n",
    "            scale += c_scale\n",
    "            shift += c_shift\n",
    "\n",
    "        if self.has_time_cond and time_cond is not None:\n",
    "            print(time_cond.shape)\n",
    "            time_cond = self.time_cond_downscale(time_cond)\n",
    "            time_affine = self.time_cond_proj(time_cond)  # (B, 2C, T)\n",
    "            t_scale, t_shift = time_affine.chunk(2, dim=1)\n",
    "            scale += t_scale\n",
    "            shift += t_shift\n",
    "\n",
    "        return x_normed * scale + shift, time_cond\n",
    "    \n",
    "    \n",
    "class ConvBlock(nn.Module):\n",
    "    def __init__(self, in_channels, out_channels, kernel_size=4, stride=2, padding=1, norm = None):\n",
    "        super().__init__()\n",
    "        self.conv = nn.Conv1d(in_channels, out_channels, kernel_size, stride, padding)\n",
    "        self.norm = norm\n",
    "        self.act = nn.SiLU()\n",
    "\n",
    "    def forward(self, x, time_cond, cond):\n",
    "        x = self.conv(x)\n",
    "        if isinstance(self.norm, AdaLN):\n",
    "            # If AdaLN, pass time_cond and cond\n",
    "            x, time_cond = self.norm(x, cond=cond, time_cond=time_cond)\n",
    "        else:   \n",
    "            x = self.norm(x)\n",
    "        x = self.act(x)\n",
    "        return x, time_cond\n",
    "\n",
    "class ConvDiscriminator(nn.Module):\n",
    "    def __init__(\n",
    "        self,\n",
    "        in_channels,\n",
    "        channels=64,\n",
    "        num_layers=4,\n",
    "        kernel_size=4,\n",
    "        stride=2,\n",
    "        padding=1,\n",
    "        loss_type=\"lsgan\",\n",
    "        soft_clip_scale=None,\n",
    "        channels_time_cond=0,\n",
    "        channels_cond=0,\n",
    "        cond_layers=None,\n",
    "    ):\n",
    "        super().__init__()\n",
    "        self.loss_type = loss_type\n",
    "        self.soft_clip_scale = soft_clip_scale\n",
    "        self.cond_layers = cond_layers or num_layers  # default: apply to all\n",
    "\n",
    "        self.cond_modules = nn.ModuleList()\n",
    "        layers = []\n",
    "        current_channels = in_channels\n",
    "\n",
    "        for i in range(num_layers):\n",
    "            \n",
    "            if i < self.cond_layers and (channels_time_cond > 0 or channels_cond > 0):\n",
    "                norm = AdaLN(channels, cond_dim=channels_cond, time_cond_dim=channels_time_cond)\n",
    "            else:\n",
    "                norm = nn.GroupNorm(num_groups=32, num_channels=channels)\n",
    "\n",
    "            layers.append(ConvBlock(in_channels=current_channels,\n",
    "                                    out_channels=channels,\n",
    "                                    kernel_size=kernel_size,\n",
    "                                    stride=stride,\n",
    "                                    padding=padding,\n",
    "                                    norm = norm))\n",
    "            current_channels = channels\n",
    "            \n",
    "\n",
    "        # Final projection\n",
    "        self.out_projection = nn.Conv1d(current_channels, 1, kernel_size=kernel_size, stride=1, padding=0)\n",
    "\n",
    "        self.layers = nn.ModuleList(layers)\n",
    "\n",
    "    def forward(self, x, cond=None, time_cond=None):\n",
    "        \n",
    "        \n",
    "        for block in self.layers:\n",
    "            x, time_cond  = block(x, time_cond, cond)\n",
    "        \n",
    "        return self.out_projection(x)\n",
    "\n",
    "\n",
    "    def loss(self, reals, fakes, cond_reals=None, time_cond_reals=None, cond_fakes=None, time_cond_fakes=None):\n",
    "        real_scores = self(reals, cond=cond_reals, time_cond=time_cond_reals)\n",
    "        fake_scores = self(fakes, cond=cond_fakes, time_cond=time_cond_fakes)\n",
    "\n",
    "        if self.loss_type == \"lsgan\":\n",
    "            loss_dis = torch.mean(fake_scores ** 2) + torch.mean((1 - real_scores) ** 2)\n",
    "            loss_adv = torch.mean((1 - fake_scores) ** 2)\n",
    "        elif self.loss_type == \"relativistic\":\n",
    "            loss_dis, loss_adv = get_relativistic_losses(real_scores, fake_scores)\n",
    "        else:\n",
    "            raise ValueError(f\"Unsupported loss type: {self.loss_type}\")\n",
    "\n",
    "        return {\n",
    "            \"loss_dis\": loss_dis,\n",
    "            \"loss_adv\": loss_adv\n",
    "        }\n",
    "        \n",
    "        \n",
    "class LatentDiscriminator(nn.Module):\n",
    "    def __init__(self, discriminator_head, pretrained_net):\n",
    "        super().__init__()\n",
    "        self.pretrained_net = pretrained_net\n",
    "        self.discriminator = discriminator_head\n",
    "        \n",
    "    def loss(self, reals, fakes, time, cond_reals=None, time_cond_reals=None, cond_fakes=None, time_cond_fakes=None):\n",
    "        \n",
    "        reals = self.pretrained_net(x = reals, time = time, cond=cond_reals, time_cond = time_cond_reals)\n",
    "        fakes = self.pretrained_net(x = fakes, time = time, cond = cond_fakes, time_cond = time_cond_fakes)\n",
    "        \n",
    "        losses = self.discriminator.loss(reals, fakes, cond_reals=cond_reals, time_cond_reals=time_cond_reals,cond_fakes=cond_fakes, time_cond_fakes=time_cond_fakes)\n",
    "        return losses"
   ]
  },
  {
   "cell_type": "code",
   "execution_count": 100,
   "metadata": {},
   "outputs": [
    {
     "data": {
      "text/plain": [
       "_IncompatibleKeys(missing_keys=[], unexpected_keys=['denoiser_trans_block.decoder_blocks.4.self_attention.qkv_linear.weight', 'denoiser_trans_block.decoder_blocks.4.self_attention.mha.rotary_emb.freqs', 'denoiser_trans_block.decoder_blocks.4.self_attention.rotary_emb.freqs', 'denoiser_trans_block.decoder_blocks.4.mlp.mlp.0.weight', 'denoiser_trans_block.decoder_blocks.4.mlp.mlp.0.bias', 'denoiser_trans_block.decoder_blocks.4.mlp.mlp.2.weight', 'denoiser_trans_block.decoder_blocks.4.mlp.mlp.2.bias', 'denoiser_trans_block.decoder_blocks.4.norm1.weight', 'denoiser_trans_block.decoder_blocks.4.norm1.bias', 'denoiser_trans_block.decoder_blocks.4.norm3.weight', 'denoiser_trans_block.decoder_blocks.4.norm3.bias', 'denoiser_trans_block.decoder_blocks.4.linear.weight', 'denoiser_trans_block.decoder_blocks.4.linear.bias', 'denoiser_trans_block.decoder_blocks.4.tcond_linear.weight', 'denoiser_trans_block.decoder_blocks.4.tcond_linear.bias', 'denoiser_trans_block.decoder_blocks.5.self_attention.qkv_linear.weight', 'denoiser_trans_block.decoder_blocks.5.self_attention.mha.rotary_emb.freqs', 'denoiser_trans_block.decoder_blocks.5.self_attention.rotary_emb.freqs', 'denoiser_trans_block.decoder_blocks.5.mlp.mlp.0.weight', 'denoiser_trans_block.decoder_blocks.5.mlp.mlp.0.bias', 'denoiser_trans_block.decoder_blocks.5.mlp.mlp.2.weight', 'denoiser_trans_block.decoder_blocks.5.mlp.mlp.2.bias', 'denoiser_trans_block.decoder_blocks.5.norm1.weight', 'denoiser_trans_block.decoder_blocks.5.norm1.bias', 'denoiser_trans_block.decoder_blocks.5.norm3.weight', 'denoiser_trans_block.decoder_blocks.5.norm3.bias', 'denoiser_trans_block.decoder_blocks.5.linear.weight', 'denoiser_trans_block.decoder_blocks.5.linear.bias', 'denoiser_trans_block.decoder_blocks.5.tcond_linear.weight', 'denoiser_trans_block.decoder_blocks.5.tcond_linear.bias', 'denoiser_trans_block.out_proj.0.weight', 'denoiser_trans_block.out_proj.0.bias'])"
      ]
     },
     "execution_count": 100,
     "metadata": {},
     "output_type": "execute_result"
    }
   ],
   "source": [
    "net = DenoiserV2().eval()\n",
    "net2 = DenoiserV2(n_layers = 4, use_out_proj=False).eval()\n",
    "net2.load_state_dict(net.state_dict(), strict = False)"
   ]
  },
  {
   "cell_type": "code",
   "execution_count": 101,
   "metadata": {},
   "outputs": [
    {
     "name": "stdout",
     "output_type": "stream",
     "text": [
      "torch.Size([1, 64, 128])\n",
      "torch.Size([1, 512, 128])\n"
     ]
    }
   ],
   "source": [
    "x = torch.randn((1, 64, 128))\n",
    "\n",
    "time_cond = torch.randn((1, 12, 128))\n",
    "cond = torch.randn((1, 6))\n",
    "time = torch.randn((1))\n",
    "\n",
    "y = net(x, time = time, time_cond = time_cond, cond = cond)\n",
    "y2 = net2(x, time = time, time_cond = time_cond, cond = cond)\n",
    "\n",
    "print(y.shape)\n",
    "print(y2.shape)\n",
    "\n",
    "# print((y-y2).max())"
   ]
  },
  {
   "cell_type": "code",
   "execution_count": 108,
   "metadata": {},
   "outputs": [
    {
     "name": "stdout",
     "output_type": "stream",
     "text": [
      "Discriminator params: 4.244345\n",
      "torch.Size([1, 12, 128])\n",
      "torch.Size([1, 12, 64])\n",
      "torch.Size([1, 12, 128])\n",
      "torch.Size([1, 12, 64])\n"
     ]
    },
    {
     "data": {
      "text/plain": [
       "{'loss_dis': tensor(0.6931, grad_fn=<MeanBackward0>),\n",
       " 'loss_adv': tensor(0.6931, grad_fn=<MeanBackward0>)}"
      ]
     },
     "execution_count": 108,
     "metadata": {},
     "output_type": "execute_result"
    }
   ],
   "source": [
    "discriminator_head = ConvDiscriminator(\n",
    "    in_channels=512,\n",
    "    channels=512,\n",
    "    num_layers=4,\n",
    "    kernel_size=4,\n",
    "    stride=2,\n",
    "    padding=1,\n",
    "    loss_type=\"relativistic\",\n",
    "    channels_cond = 6,\n",
    "    channels_time_cond = 12,\n",
    "    cond_layers = 2\n",
    ")\n",
    "\n",
    "allp = 0\n",
    "for p in discriminator_head.parameters():\n",
    "    allp += p.numel()\n",
    "print(f\"Discriminator params: {allp/1e6}\")\n",
    "\n",
    "\n",
    "pred = discriminator_head(y2)\n",
    "\n",
    "discriminator_head.loss(y2, y2, cond_reals=cond, time_cond_reals=time_cond,cond_fakes=cond, time_cond_fakes=time_cond,)"
   ]
  },
  {
   "cell_type": "code",
   "execution_count": 92,
   "metadata": {},
   "outputs": [
    {
     "data": {
      "text/plain": [
       "{'loss_dis': tensor(0.6631, grad_fn=<MeanBackward0>),\n",
       " 'loss_adv': tensor(0.7331, grad_fn=<MeanBackward0>)}"
      ]
     },
     "execution_count": 92,
     "metadata": {},
     "output_type": "execute_result"
    }
   ],
   "source": [
    "discriminator = LatentDiscriminator(discriminator_head=discriminator_head, pretrained_net = net2)\n",
    "\n",
    "discriminator.loss(x, torch.randn_like(x), time, cond_reals=cond, time_cond_reals=time_cond, cond_fakes=cond, time_cond_fakes=time_cond,)"
   ]
  },
  {
   "cell_type": "code",
   "execution_count": null,
   "metadata": {},
   "outputs": [],
   "source": []
  },
  {
   "cell_type": "code",
   "execution_count": 109,
   "metadata": {},
   "outputs": [],
   "source": [
    "def sample_pgen(num_samples):\n",
    "    \"\"\"\n",
    "    Uniform in log-SNR space from -6 to 2, mapped back to t-space [0, 1]\n",
    "    \"\"\"\n",
    "    logsnr_min, logsnr_max = -6, 2\n",
    "    logsnr = torch.rand(num_samples) * (logsnr_max - logsnr_min) + logsnr_min\n",
    "    return logsnr  # or convert to t if needed\n",
    "\n"
   ]
  },
  {
   "cell_type": "code",
   "execution_count": 110,
   "metadata": {},
   "outputs": [],
   "source": [
    "def sample_pdisc(num_samples, mu=0.0, sigma=1.0):\n",
    "    \"\"\"\n",
    "    Samples from the shifted logit-normal distribution.\n",
    "    Returns values in (0, 1).\n",
    "    \"\"\"\n",
    "    normal = torch.randn(num_samples) * sigma + mu\n",
    "    s = torch.sigmoid(normal)\n",
    "    return s\n",
    "\n",
    "def sample_pgen(num_samples, max_logsnr=2, min_logsnr = -5):\n",
    "    t = 1-torch.sigmoid(-(torch.rand(num_samples) * (max_logsnr - min_logsnr) + min_logsnr))\n",
    "    return t\n"
   ]
  },
  {
   "cell_type": "code",
   "execution_count": 129,
   "metadata": {},
   "outputs": [],
   "source": []
  },
  {
   "cell_type": "code",
   "execution_count": 132,
   "metadata": {},
   "outputs": [
    {
     "data": {
      "image/png": "[encoded data removed]",
      "text/plain": [
       "<Figure size 1200x400 with 2 Axes>"
      ]
     },
     "metadata": {},
     "output_type": "display_data"
    }
   ],
   "source": [
    "import matplotlib.pyplot as plt\n",
    "\n",
    "t = sample_pgen(100000)\n",
    "s = sample_pdisc(10000, mu=0.0, sigma=1.0)\n",
    "\n",
    "plt.figure(figsize=(12, 4))\n",
    "\n",
    "plt.subplot(1, 2, 1)\n",
    "plt.hist(t.numpy(), bins=100)\n",
    "plt.title(\"pgen(t) ~ Uniform in log-SNR\")\n",
    "\n",
    "plt.subplot(1, 2, 2)\n",
    "plt.hist(s.numpy(), bins=100)\n",
    "plt.title(\"pdisc(s) ~ Logit-Normal\")\n",
    "\n",
    "plt.tight_layout()\n",
    "plt.show()\n"
   ]
  },
  {
   "cell_type": "code",
   "execution_count": null,
   "metadata": {},
   "outputs": [],
   "source": []
  }
 ],
 "metadata": {
  "kernelspec": {
   "display_name": "test_after",
   "language": "python",
   "name": "python3"
  },
  "language_info": {
   "codemirror_mode": {
    "name": "ipython",
    "version": 3
   },
   "file_extension": ".py",
   "mimetype": "text/x-python",
   "name": "python",
   "nbconvert_exporter": "python",
   "pygments_lexer": "ipython3",
   "version": "3.12.8"
  }
 },
 "nbformat": 4,
 "nbformat_minor": 2
}
