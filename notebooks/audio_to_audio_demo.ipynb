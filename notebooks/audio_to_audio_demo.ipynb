{
 "cells": [
  {
   "cell_type": "markdown",
   "metadata": {},
   "source": [
    "# Audio-to-audio generation \n"
   ]
  },
  {
   "cell_type": "code",
   "execution_count": 1,
   "metadata": {
    "scrolled": true
   },
   "outputs": [],
   "source": [
    "import gin\n",
    "\n",
    "gin.enter_interactive_mode()\n",
    "\n",
    "from IPython.display import display, Audio\n",
    "import torch\n",
    "import numpy as np\n",
    "import librosa\n",
    "import sys\n",
    "\n",
    "sys.path.append('..')\n",
    "torch.set_grad_enabled(False)\n",
    "\n",
    "import os\n",
    "\n",
    "os.environ[\"CUDA_VISIBLE_DEVICES\"] = \"1\""
   ]
  },
  {
   "cell_type": "markdown",
   "metadata": {},
   "source": [
    "### Checkpoint setup"
   ]
  },
  {
   "cell_type": "code",
   "execution_count": 12,
   "metadata": {},
   "outputs": [],
   "source": [
    "model_path = \"\"\n",
    "step = 0\n",
    "autoencoder_path = \"\"\n",
    "device = \"cpu\""
   ]
  },
  {
   "cell_type": "markdown",
   "metadata": {},
   "source": [
    "### Instantiate te model and load the checkpoint"
   ]
  },
  {
   "cell_type": "code",
   "execution_count": null,
   "metadata": {},
   "outputs": [],
   "source": [
    "from after.diffusion import RectifiedFlow\n",
    "\n",
    "checkpoint_path = model_path + \"/checkpoint\" + str(step) + \"_EMA.pt\"\n",
    "config = os.path.join(model_path, \"config.gin\")\n",
    "\n",
    "# Parse config\n",
    "gin.parse_config_file(config)\n",
    "SR = gin.query_parameter(\"%SR\")\n",
    "n_signal = gin.query_parameter(\"%N_SIGNAL\")\n",
    "\n",
    "# Emb model\n",
    "\n",
    "# Instantiate model\n",
    "blender = RectifiedFlow(device=device)\n",
    "\n",
    "# Load checkpoints\n",
    "state_dict = torch.load(checkpoint_path, map_location=\"cpu\")[\"model_state\"]\n",
    "blender.load_state_dict(state_dict, strict=False)\n",
    "\n",
    "# Emb model\n",
    "emb_model = torch.jit.load(autoencoder_path).eval()\n",
    "blender.emb_model = emb_model\n",
    "\n",
    "# Send to device\n",
    "blender = blender.eval().to(device)"
   ]
  },
  {
   "cell_type": "markdown",
   "metadata": {},
   "source": [
    "### Load the dataset"
   ]
  },
  {
   "cell_type": "code",
   "execution_count": 14,
   "metadata": {},
   "outputs": [],
   "source": [
    "from after.dataset import SimpleDataset\n",
    "from IPython.display import display, Audio\n",
    "\n",
    "db_path = \"\"\n",
    "dataset = SimpleDataset(path=db_path, keys=[\"z\"])\n"
   ]
  },
  {
   "cell_type": "code",
   "execution_count": null,
   "metadata": {},
   "outputs": [],
   "source": [
    "z1 = dataset[0][\"z\"][..., :n_signal]\n",
    "z2 = dataset[1][\"z\"][..., :n_signal]\n",
    "\n",
    "z1, z2 = torch.tensor(z1).to(device).unsqueeze(0), torch.tensor(z2).to(\n",
    "    device).unsqueeze(0)\n",
    "\n",
    "x1, x2 = blender.emb_model.decode(\n",
    "    z1).cpu().squeeze(), blender.emb_model.decode(z2).cpu().squeeze()\n",
    "\n",
    "display(Audio(x1, rate=SR))\n",
    "display(Audio(x2, rate=SR))"
   ]
  },
  {
   "cell_type": "markdown",
   "metadata": {},
   "source": [
    "#### Generation"
   ]
  },
  {
   "cell_type": "code",
   "execution_count": 16,
   "metadata": {},
   "outputs": [],
   "source": [
    "nb_steps = 10  #Number of diffusion steps\n",
    "guidance = 1.0  #Classifier free guidance strength"
   ]
  },
  {
   "cell_type": "code",
   "execution_count": null,
   "metadata": {},
   "outputs": [],
   "source": [
    "# Compute structure representation\n",
    "time_cond1, time_cond2 = blender.encoder_time(z1), blender.encoder_time(z2)\n",
    "\n",
    "# Compute timbre representation\n",
    "zsem1, zsem2 = blender.encoder(z1), blender.encoder(z2)\n",
    "\n",
    "time_cond = time_cond1\n",
    "zsem = zsem2\n",
    "\n",
    "# Sample initial noise\n",
    "x0 = torch.randn_like(z1)\n",
    "\n",
    "print(\"Transfer\")\n",
    "\n",
    "xS = blender.sample(\n",
    "    x0,\n",
    "    time_cond=time_cond,\n",
    "    cond=zsem,\n",
    "    nb_steps=nb_steps,\n",
    ")\n",
    "\n",
    "audio_out = blender.emb_model.decode(xS).cpu().numpy().squeeze()\n",
    "display(Audio(audio_out, rate=SR))"
   ]
  }
 ],
 "metadata": {
  "kernelspec": {
   "display_name": "base",
   "language": "python",
   "name": "python3"
  },
  "language_info": {
   "codemirror_mode": {
    "name": "ipython",
    "version": 3
   },
   "file_extension": ".py",
   "mimetype": "text/x-python",
   "name": "python",
   "nbconvert_exporter": "python",
   "pygments_lexer": "ipython3",
   "version": "3.12.6"
  }
 },
 "nbformat": 4,
 "nbformat_minor": 4
}
